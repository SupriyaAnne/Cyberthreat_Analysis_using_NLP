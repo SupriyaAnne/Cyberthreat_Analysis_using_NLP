{
  "cells": [
    {
      "cell_type": "code",
      "execution_count": 25,
      "metadata": {
        "id": "LJsQRhd3268X",
        "outputId": "f4386363-b45a-4e3b-d3f9-327efbd85cb5",
        "colab": {
          "base_uri": "https://localhost:8080/"
        }
      },
      "outputs": [
        {
          "output_type": "stream",
          "name": "stdout",
          "text": [
            "\n",
            "Class Distribution:\n",
            "label\n",
            "normal    700\n",
            "threat    300\n",
            "Name: count, dtype: int64\n"
          ]
        }
      ],
      "source": [
        "import pandas as pd\n",
        "import numpy as np\n",
        "import re\n",
        "import string\n",
        "import nltk\n",
        "from sklearn.model_selection import train_test_split\n",
        "from sklearn.feature_extraction.text import TfidfVectorizer\n",
        "from sklearn.preprocessing import LabelEncoder\n",
        "from sklearn.metrics import classification_report, confusion_matrix, roc_auc_score\n",
        "from sklearn.svm import OneClassSVM\n",
        "from sklearn.ensemble import RandomForestClassifier\n",
        "import seaborn as sns\n",
        "import matplotlib.pyplot as plt\n",
        "\n",
        "# Load the dataset\n",
        "file_path = \"cyber_threat_twitter_mock_1000.csv\"  # Replace with the correct path\n",
        "df = pd.read_csv(file_path)\n",
        "\n",
        "# Display basic info\n",
        "print(\"\\nClass Distribution:\")\n",
        "print(df['label'].value_counts())\n"
      ]
    },
    {
      "cell_type": "code",
      "execution_count": 26,
      "metadata": {
        "id": "bYvJUXuy268a",
        "outputId": "2ff72a88-5661-4a53-e76e-b99c65e00036",
        "colab": {
          "base_uri": "https://localhost:8080/"
        }
      },
      "outputs": [
        {
          "output_type": "stream",
          "name": "stdout",
          "text": [
            "                                                text  \\\n",
            "0  MITRE ATT&CK reports new TTP for lateral movem...   \n",
            "1  ⚠️ New malware exploiting CVE-2024-1234. Updat...   \n",
            "2  ⚠️ New malware exploiting CVE-2024-1234. Updat...   \n",
            "3  📚 Reading a new book on productivity. Highly r...   \n",
            "4  🌞 Beautiful day at the beach! #Vacation #Beach...   \n",
            "\n",
            "                                          clean_text  \n",
            "0  mitre attck report new ttp lateral movement vi...  \n",
            "1           new malware exploiting cve update system  \n",
            "2           new malware exploiting cve update system  \n",
            "3     reading new book productivity highly recommend  \n",
            "4                                beautiful day beach  \n"
          ]
        },
        {
          "output_type": "stream",
          "name": "stderr",
          "text": [
            "[nltk_data] Downloading package stopwords to /root/nltk_data...\n",
            "[nltk_data]   Package stopwords is already up-to-date!\n"
          ]
        }
      ],
      "source": [
        "nltk.download('stopwords')\n",
        "from nltk.corpus import stopwords\n",
        "from nltk.stem import WordNetLemmatizer\n",
        "\n",
        "stop_words = set(stopwords.words('english'))\n",
        "lemmatizer = WordNetLemmatizer()\n",
        "\n",
        "# Preprocessing function\n",
        "def preprocess_text(text):\n",
        "    # Remove URLs\n",
        "    text = re.sub(r'http\\S+|www\\S+|https\\S+', '', text)\n",
        "\n",
        "    # Remove mentions and hashtags\n",
        "    text = re.sub(r'@\\w+|#\\w+', '', text)\n",
        "\n",
        "    # Remove special characters and numbers\n",
        "    text = re.sub(r'[^a-zA-Z\\s]', '', text)\n",
        "\n",
        "    # Convert to lowercase\n",
        "    text = text.lower()\n",
        "\n",
        "    # Tokenization and lemmatization\n",
        "    tokens = text.split()\n",
        "    tokens = [lemmatizer.lemmatize(word) for word in tokens if word not in stop_words]\n",
        "\n",
        "    return \" \".join(tokens)\n",
        "\n",
        "# Apply preprocessing\n",
        "df['clean_text'] = df['text'].apply(preprocess_text)\n",
        "\n",
        "# Check preprocessed data\n",
        "print(df[['text', 'clean_text']].head())\n"
      ]
    },
    {
      "cell_type": "code",
      "execution_count": 27,
      "metadata": {
        "id": "RYQc0ixT268a",
        "outputId": "3e175119-af16-448c-b3a2-56014e84877f",
        "colab": {
          "base_uri": "https://localhost:8080/"
        }
      },
      "outputs": [
        {
          "output_type": "stream",
          "name": "stdout",
          "text": [
            "\n",
            "Shape of training data: (800, 235)\n",
            "Shape of testing data: (200, 235)\n"
          ]
        }
      ],
      "source": [
        "# TF-IDF Vectorization\n",
        "vectorizer = TfidfVectorizer(max_features=1000, ngram_range=(1, 2))\n",
        "X = vectorizer.fit_transform(df['clean_text']).toarray()\n",
        "\n",
        "# Encode labels\n",
        "le = LabelEncoder()\n",
        "y = le.fit_transform(df['label'])\n",
        "\n",
        "# Split into training and testing sets\n",
        "X_train, X_test, y_train, y_test = train_test_split(X, y, test_size=0.2, random_state=42)\n",
        "\n",
        "print(\"\\nShape of training data:\", X_train.shape)\n",
        "print(\"Shape of testing data:\", X_test.shape)\n"
      ]
    },
    {
      "cell_type": "code",
      "execution_count": 28,
      "metadata": {
        "id": "x9nKImVG268a",
        "outputId": "055365e2-aaf8-43cd-fd7d-c44a0e3b9282",
        "colab": {
          "base_uri": "https://localhost:8080/",
          "height": 672
        }
      },
      "outputs": [
        {
          "output_type": "stream",
          "name": "stdout",
          "text": [
            "\n",
            "Multi-Class Classification Report:\n",
            "              precision    recall  f1-score   support\n",
            "\n",
            "           0       1.00      1.00      1.00       143\n",
            "           1       1.00      1.00      1.00        57\n",
            "\n",
            "    accuracy                           1.00       200\n",
            "   macro avg       1.00      1.00      1.00       200\n",
            "weighted avg       1.00      1.00      1.00       200\n",
            "\n"
          ]
        },
        {
          "output_type": "display_data",
          "data": {
            "text/plain": [
              "<Figure size 640x480 with 2 Axes>"
            ],
            "image/png": "[encoded data removed]"
          },
          "metadata": {}
        }
      ],
      "source": [
        "# Multi-Class Classification using Random Forest\n",
        "rf_model = RandomForestClassifier(n_estimators=200, random_state=42)\n",
        "rf_model.fit(X_train, y_train)\n",
        "\n",
        "# Predictions\n",
        "y_pred = rf_model.predict(X_test)\n",
        "\n",
        "# Evaluation\n",
        "print(\"\\nMulti-Class Classification Report:\")\n",
        "print(classification_report(y_test, y_pred))\n",
        "\n",
        "# Confusion Matrix\n",
        "conf_matrix = confusion_matrix(y_test, y_pred)\n",
        "sns.heatmap(conf_matrix, annot=True, fmt='d', cmap='Blues', xticklabels=le.classes_, yticklabels=le.classes_)\n",
        "plt.title(\"Confusion Matrix - Random Forest\")\n",
        "plt.xlabel(\"Predicted\")\n",
        "plt.ylabel(\"Actual\")\n",
        "plt.show()\n"
      ]
    },
    {
      "cell_type": "code",
      "execution_count": 29,
      "metadata": {
        "id": "g2NfWZx6268b",
        "outputId": "29775cc4-6ce7-4ab8-a40d-a49cab3450c9",
        "colab": {
          "base_uri": "https://localhost:8080/",
          "height": 690
        }
      },
      "outputs": [
        {
          "output_type": "stream",
          "name": "stdout",
          "text": [
            "\n",
            "One-Class Classification Report:\n",
            "              precision    recall  f1-score   support\n",
            "\n",
            "          -1       0.83      1.00      0.90       700\n",
            "           1       1.00      0.51      0.67       300\n",
            "\n",
            "    accuracy                           0.85      1000\n",
            "   macro avg       0.91      0.75      0.79      1000\n",
            "weighted avg       0.88      0.85      0.83      1000\n",
            "\n",
            "AUC-ROC Score: 0.7533\n"
          ]
        },
        {
          "output_type": "display_data",
          "data": {
            "text/plain": [
              "<Figure size 640x480 with 2 Axes>"
            ],
            "image/png": "[encoded data removed]"
          },
          "metadata": {}
        }
      ],
      "source": [
        "# Filter threat class for one-class classifier training\n",
        "threat_df = df[df['label'] == 'threat']\n",
        "X_threat = vectorizer.transform(threat_df['clean_text']).toarray()\n",
        "\n",
        "# One-Class SVM\n",
        "ocsvm = OneClassSVM(kernel='rbf', gamma='scale', nu=0.1)\n",
        "ocsvm.fit(X_threat)\n",
        "\n",
        "# Testing on the entire dataset\n",
        "y_test_oc = np.where(df['label'] == 'threat', 1, -1)  # 1 = threat, -1 = normal\n",
        "X_all = vectorizer.transform(df['clean_text']).toarray()\n",
        "\n",
        "# Predictions\n",
        "y_pred_oc = ocsvm.predict(X_all)\n",
        "\n",
        "# Evaluation\n",
        "print(\"\\nOne-Class Classification Report:\")\n",
        "print(classification_report(y_test_oc, y_pred_oc))\n",
        "\n",
        "# AUC-ROC Score\n",
        "auc = roc_auc_score(y_test_oc, y_pred_oc)\n",
        "print(f\"AUC-ROC Score: {auc:.4f}\")\n",
        "\n",
        "# Plot confusion matrix\n",
        "cm = confusion_matrix(y_test_oc, y_pred_oc)\n",
        "sns.heatmap(cm, annot=True, fmt='d', cmap='Blues', xticklabels=['Normal', 'Threat'], yticklabels=['Normal', 'Threat'])\n",
        "plt.title(\"Confusion Matrix - One-Class SVM\")\n",
        "plt.xlabel(\"Predicted\")\n",
        "plt.ylabel(\"Actual\")\n",
        "plt.show()\n"
      ]
    },
    {
      "cell_type": "code",
      "execution_count": 30,
      "metadata": {
        "colab": {
          "base_uri": "https://localhost:8080/"
        },
        "id": "n-6jkT-N268b",
        "outputId": "4fc2c833-8c92-4197-fcdb-0e34c220e6b2"
      },
      "outputs": [
        {
          "output_type": "stream",
          "name": "stdout",
          "text": [
            "✅ Model Initialized!\n"
          ]
        }
      ],
      "source": [
        "import torch\n",
        "import torch.nn as nn\n",
        "import torch.optim as optim\n",
        "from torch.utils.data import DataLoader, TensorDataset\n",
        "\n",
        "# Binary Classification Model\n",
        "class BinaryClassifier(nn.Module):\n",
        "    def __init__(self, input_dim):\n",
        "        super(BinaryClassifier, self).__init__()\n",
        "        self.fc1 = nn.Linear(input_dim, 256)\n",
        "        self.fc2 = nn.Linear(256, 128)\n",
        "        self.fc3 = nn.Linear(128, 1)\n",
        "        self.relu = nn.ReLU()\n",
        "        self.sigmoid = nn.Sigmoid()\n",
        "\n",
        "    def forward(self, x):\n",
        "        x = self.relu(self.fc1(x))\n",
        "        x = self.relu(self.fc2(x))\n",
        "        x = self.sigmoid(self.fc3(x))\n",
        "        return x\n",
        "\n",
        "# Initialize Model\n",
        "input_dim = 790\n",
        "device = torch.device(\"cuda\" if torch.cuda.is_available() else \"cpu\")\n",
        "model = BinaryClassifier(input_dim)\n",
        "model_save_path = \"./cyber_threat_one_class_classifier.pth\"\n",
        "# Recreate the model architecture\n",
        "model = BinaryClassifier(input_dim=input_dim)  # Same architecture as before\n",
        "model.load_state_dict(torch.load(model_save_path, map_location=device))\n",
        "model.to(device)\n",
        "model.eval()\n",
        "\n",
        "print(\"✅ Model Initialized!\")\n"
      ]
    },
    {
      "cell_type": "code",
      "execution_count": 31,
      "metadata": {
        "colab": {
          "base_uri": "https://localhost:8080/"
        },
        "id": "e_iJDsP6268b",
        "outputId": "89904dcd-d11a-4bc7-dc05-3ca2746dfa38"
      },
      "outputs": [
        {
          "output_type": "stream",
          "name": "stdout",
          "text": [
            "✅ TF-IDF Vectorizer loaded successfully!\n",
            "\n",
            "✅ **Real-Time Inference Results:**\n",
            "Tweet: Over scientist prevent bill business. bitcoin Director give heart wall.\n",
            "Prediction: Threat (Confidence: 0.9996)\n",
            "\n",
            "Tweet: Hold I discuss fast. distributed denial Through detail table budget boy ball.,\n",
            "Prediction: Threat (Confidence: 0.9999)\n",
            "\n",
            "Tweet: Malware detected in system logs. Immediate action required!\n",
            "Prediction: Threat (Confidence: 0.9999)\n",
            "\n",
            "Tweet: Just watched an amazing movie! Highly recommend it!\n",
            "Prediction: Normal (Confidence: 0.9997)\n",
            "\n"
          ]
        }
      ],
      "source": [
        "import torch\n",
        "import numpy as np\n",
        "import joblib\n",
        "from sklearn.feature_extraction.text import TfidfVectorizer\n",
        "\n",
        "# Function to perform inference on new tweets\n",
        "def predict_tweet(model, vectorizer, tweet_text, device):\n",
        "    model.eval()\n",
        "\n",
        "    # Vectorize the input tweet using the same TF-IDF vectorizer\n",
        "    tweet_vector = vectorizer.transform([tweet_text]).toarray()\n",
        "    tweet_tensor = torch.tensor(tweet_vector, dtype=torch.float32).to(device)\n",
        "\n",
        "    # Perform inference\n",
        "    with torch.no_grad():\n",
        "        output = model(tweet_tensor).squeeze().item()\n",
        "\n",
        "    # Interpret the result\n",
        "    label = \"Threat\" if output >= 0.5 else \"Normal\"\n",
        "    confidence = output if output >= 0.5 else 1 - output\n",
        "\n",
        "    return label, confidence\n",
        "\n",
        "# Example Usage\n",
        "tweets = [\n",
        "    \"Over scientist prevent bill business. bitcoin Director give heart wall.\",\n",
        "    \"Hold I discuss fast. distributed denial Through detail table budget boy ball.,\",\n",
        "    \"Malware detected in system logs. Immediate action required!\",\n",
        "    \"Just watched an amazing movie! Highly recommend it!\"\n",
        "]\n",
        "# Load the saved vectorizer\n",
        "vectorizer_save_path = './tfidf_vectorizer_one_class_classifier.pkl'\n",
        "vectorizer = joblib.load(vectorizer_save_path)\n",
        "\n",
        "print(\"✅ TF-IDF Vectorizer loaded successfully!\")\n",
        "# Run inference on multiple tweets\n",
        "print(\"\\n✅ **Real-Time Inference Results:**\")\n",
        "for tweet in tweets:\n",
        "    label, confidence = predict_tweet(model, vectorizer, tweet, device)\n",
        "    print(f\"Tweet: {tweet}\")\n",
        "    print(f\"Prediction: {label} (Confidence: {confidence:.4f})\\n\")\n"
      ]
    },
    {
      "cell_type": "code",
      "execution_count": null,
      "metadata": {
        "id": "ifNl-6ZI268c"
      },
      "outputs": [],
      "source": []
    }
  ],
  "metadata": {
    "kernelspec": {
      "display_name": "solar-det",
      "language": "python",
      "name": "python3"
    },
    "language_info": {
      "codemirror_mode": {
        "name": "ipython",
        "version": 3
      },
      "file_extension": ".py",
      "mimetype": "text/x-python",
      "name": "python",
      "nbconvert_exporter": "python",
      "pygments_lexer": "ipython3",
      "version": "undefined.undefined.undefined"
    },
    "colab": {
      "provenance": []
    }
  },
  "nbformat": 4,
  "nbformat_minor": 0
}